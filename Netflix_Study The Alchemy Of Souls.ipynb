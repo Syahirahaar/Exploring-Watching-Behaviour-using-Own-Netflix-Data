{
 "cells": [
  {
   "cell_type": "code",
   "execution_count": 1,
   "id": "f04de93b",
   "metadata": {},
   "outputs": [],
   "source": [
    "import pandas as pd\n",
    "import csv"
   ]
  },
  {
   "cell_type": "code",
   "execution_count": 2,
   "id": "ba36c283",
   "metadata": {},
   "outputs": [
    {
     "data": {
      "text/html": [
       "<div>\n",
       "<style scoped>\n",
       "    .dataframe tbody tr th:only-of-type {\n",
       "        vertical-align: middle;\n",
       "    }\n",
       "\n",
       "    .dataframe tbody tr th {\n",
       "        vertical-align: top;\n",
       "    }\n",
       "\n",
       "    .dataframe thead th {\n",
       "        text-align: right;\n",
       "    }\n",
       "</style>\n",
       "<table border=\"1\" class=\"dataframe\">\n",
       "  <thead>\n",
       "    <tr style=\"text-align: right;\">\n",
       "      <th></th>\n",
       "      <th>Profile Name</th>\n",
       "      <th>Start Time</th>\n",
       "      <th>Duration</th>\n",
       "      <th>Attributes</th>\n",
       "      <th>Title</th>\n",
       "      <th>Supplemental Video Type</th>\n",
       "      <th>Device Type</th>\n",
       "      <th>Bookmark</th>\n",
       "      <th>Latest Bookmark</th>\n",
       "      <th>Country</th>\n",
       "    </tr>\n",
       "  </thead>\n",
       "  <tbody>\n",
       "    <tr>\n",
       "      <th>0</th>\n",
       "      <td>Kids</td>\n",
       "      <td>2022-08-06 17:00:52</td>\n",
       "      <td>00:00:07</td>\n",
       "      <td>NaN</td>\n",
       "      <td>Season 5 Main Character Clip 4: Gabby's Dollhouse</td>\n",
       "      <td>HOOK</td>\n",
       "      <td>DefaultWidevineAndroidTablets</td>\n",
       "      <td>00:00:06</td>\n",
       "      <td>00:00:06</td>\n",
       "      <td>MY (Malaysia)</td>\n",
       "    </tr>\n",
       "    <tr>\n",
       "      <th>1</th>\n",
       "      <td>Kids</td>\n",
       "      <td>2022-05-31 11:01:32</td>\n",
       "      <td>00:00:07</td>\n",
       "      <td>NaN</td>\n",
       "      <td>Upin&amp;Ipin: Season 5: Back To School (Episode 1)</td>\n",
       "      <td>NaN</td>\n",
       "      <td>DefaultWidevineAndroidTablets</td>\n",
       "      <td>00:00:07</td>\n",
       "      <td>00:00:07</td>\n",
       "      <td>MY (Malaysia)</td>\n",
       "    </tr>\n",
       "    <tr>\n",
       "      <th>2</th>\n",
       "      <td>Kids</td>\n",
       "      <td>2022-03-06 02:49:49</td>\n",
       "      <td>00:00:02</td>\n",
       "      <td>NaN</td>\n",
       "      <td>CoComelon: Season 4: CoComelon Fun Club (Episo...</td>\n",
       "      <td>NaN</td>\n",
       "      <td>DefaultWidevineAndroidTablets</td>\n",
       "      <td>00:00:02</td>\n",
       "      <td>00:00:02</td>\n",
       "      <td>MY (Malaysia)</td>\n",
       "    </tr>\n",
       "    <tr>\n",
       "      <th>3</th>\n",
       "      <td>Syahirah kiyowo</td>\n",
       "      <td>2023-01-05 12:27:58</td>\n",
       "      <td>00:13:01</td>\n",
       "      <td>NaN</td>\n",
       "      <td>The Fabulous: Season 1: The Pop-up Shop and th...</td>\n",
       "      <td>NaN</td>\n",
       "      <td>DefaultWidevineAndroidTablets</td>\n",
       "      <td>00:27:44</td>\n",
       "      <td>00:27:44</td>\n",
       "      <td>MY (Malaysia)</td>\n",
       "    </tr>\n",
       "    <tr>\n",
       "      <th>4</th>\n",
       "      <td>Syahirah kiyowo</td>\n",
       "      <td>2023-01-04 14:45:55</td>\n",
       "      <td>00:01:50</td>\n",
       "      <td>NaN</td>\n",
       "      <td>The Fabulous: Season 1: The Pop-up Shop and th...</td>\n",
       "      <td>NaN</td>\n",
       "      <td>DefaultWidevineAndroidTablets</td>\n",
       "      <td>00:06:58</td>\n",
       "      <td>Not latest view</td>\n",
       "      <td>MY (Malaysia)</td>\n",
       "    </tr>\n",
       "  </tbody>\n",
       "</table>\n",
       "</div>"
      ],
      "text/plain": [
       "      Profile Name           Start Time  Duration Attributes  \\\n",
       "0             Kids  2022-08-06 17:00:52  00:00:07        NaN   \n",
       "1             Kids  2022-05-31 11:01:32  00:00:07        NaN   \n",
       "2             Kids  2022-03-06 02:49:49  00:00:02        NaN   \n",
       "3  Syahirah kiyowo  2023-01-05 12:27:58  00:13:01        NaN   \n",
       "4  Syahirah kiyowo  2023-01-04 14:45:55  00:01:50        NaN   \n",
       "\n",
       "                                               Title Supplemental Video Type  \\\n",
       "0  Season 5 Main Character Clip 4: Gabby's Dollhouse                    HOOK   \n",
       "1    Upin&Ipin: Season 5: Back To School (Episode 1)                     NaN   \n",
       "2  CoComelon: Season 4: CoComelon Fun Club (Episo...                     NaN   \n",
       "3  The Fabulous: Season 1: The Pop-up Shop and th...                     NaN   \n",
       "4  The Fabulous: Season 1: The Pop-up Shop and th...                     NaN   \n",
       "\n",
       "                     Device Type  Bookmark  Latest Bookmark        Country  \n",
       "0  DefaultWidevineAndroidTablets  00:00:06         00:00:06  MY (Malaysia)  \n",
       "1  DefaultWidevineAndroidTablets  00:00:07         00:00:07  MY (Malaysia)  \n",
       "2  DefaultWidevineAndroidTablets  00:00:02         00:00:02  MY (Malaysia)  \n",
       "3  DefaultWidevineAndroidTablets  00:27:44         00:27:44  MY (Malaysia)  \n",
       "4  DefaultWidevineAndroidTablets  00:06:58  Not latest view  MY (Malaysia)  "
      ]
     },
     "execution_count": 2,
     "metadata": {},
     "output_type": "execute_result"
    }
   ],
   "source": [
    "df = pd.read_csv('C:/Users/nursyahirah.abrahman/Desktop/netflix-report/CONTENT_INTERACTION/ViewingActivity.csv')\n",
    "df.head()"
   ]
  },
  {
   "cell_type": "code",
   "execution_count": 3,
   "id": "3d67c5d7",
   "metadata": {},
   "outputs": [
    {
     "data": {
      "text/plain": [
       "(3543, 10)"
      ]
     },
     "execution_count": 3,
     "metadata": {},
     "output_type": "execute_result"
    }
   ],
   "source": [
    "df.shape"
   ]
  },
  {
   "cell_type": "code",
   "execution_count": 4,
   "id": "35f32111",
   "metadata": {},
   "outputs": [],
   "source": [
    "df1 = df[['Start Time','Duration','Title']]"
   ]
  },
  {
   "cell_type": "code",
   "execution_count": 5,
   "id": "30c21b17",
   "metadata": {},
   "outputs": [
    {
     "data": {
      "text/html": [
       "<div>\n",
       "<style scoped>\n",
       "    .dataframe tbody tr th:only-of-type {\n",
       "        vertical-align: middle;\n",
       "    }\n",
       "\n",
       "    .dataframe tbody tr th {\n",
       "        vertical-align: top;\n",
       "    }\n",
       "\n",
       "    .dataframe thead th {\n",
       "        text-align: right;\n",
       "    }\n",
       "</style>\n",
       "<table border=\"1\" class=\"dataframe\">\n",
       "  <thead>\n",
       "    <tr style=\"text-align: right;\">\n",
       "      <th></th>\n",
       "      <th>Start Time</th>\n",
       "      <th>Duration</th>\n",
       "      <th>Title</th>\n",
       "    </tr>\n",
       "  </thead>\n",
       "  <tbody>\n",
       "    <tr>\n",
       "      <th>0</th>\n",
       "      <td>2022-08-06 17:00:52</td>\n",
       "      <td>00:00:07</td>\n",
       "      <td>Season 5 Main Character Clip 4: Gabby's Dollhouse</td>\n",
       "    </tr>\n",
       "    <tr>\n",
       "      <th>1</th>\n",
       "      <td>2022-05-31 11:01:32</td>\n",
       "      <td>00:00:07</td>\n",
       "      <td>Upin&amp;Ipin: Season 5: Back To School (Episode 1)</td>\n",
       "    </tr>\n",
       "    <tr>\n",
       "      <th>2</th>\n",
       "      <td>2022-03-06 02:49:49</td>\n",
       "      <td>00:00:02</td>\n",
       "      <td>CoComelon: Season 4: CoComelon Fun Club (Episo...</td>\n",
       "    </tr>\n",
       "    <tr>\n",
       "      <th>3</th>\n",
       "      <td>2023-01-05 12:27:58</td>\n",
       "      <td>00:13:01</td>\n",
       "      <td>The Fabulous: Season 1: The Pop-up Shop and th...</td>\n",
       "    </tr>\n",
       "    <tr>\n",
       "      <th>4</th>\n",
       "      <td>2023-01-04 14:45:55</td>\n",
       "      <td>00:01:50</td>\n",
       "      <td>The Fabulous: Season 1: The Pop-up Shop and th...</td>\n",
       "    </tr>\n",
       "  </tbody>\n",
       "</table>\n",
       "</div>"
      ],
      "text/plain": [
       "            Start Time  Duration  \\\n",
       "0  2022-08-06 17:00:52  00:00:07   \n",
       "1  2022-05-31 11:01:32  00:00:07   \n",
       "2  2022-03-06 02:49:49  00:00:02   \n",
       "3  2023-01-05 12:27:58  00:13:01   \n",
       "4  2023-01-04 14:45:55  00:01:50   \n",
       "\n",
       "                                               Title  \n",
       "0  Season 5 Main Character Clip 4: Gabby's Dollhouse  \n",
       "1    Upin&Ipin: Season 5: Back To School (Episode 1)  \n",
       "2  CoComelon: Season 4: CoComelon Fun Club (Episo...  \n",
       "3  The Fabulous: Season 1: The Pop-up Shop and th...  \n",
       "4  The Fabulous: Season 1: The Pop-up Shop and th...  "
      ]
     },
     "execution_count": 5,
     "metadata": {},
     "output_type": "execute_result"
    }
   ],
   "source": [
    "df1.head()"
   ]
  },
  {
   "cell_type": "code",
   "execution_count": 6,
   "id": "c2dc463a",
   "metadata": {},
   "outputs": [
    {
     "data": {
      "text/plain": [
       "Start Time    object\n",
       "Duration      object\n",
       "Title         object\n",
       "dtype: object"
      ]
     },
     "execution_count": 6,
     "metadata": {},
     "output_type": "execute_result"
    }
   ],
   "source": [
    "df1.dtypes"
   ]
  },
  {
   "cell_type": "code",
   "execution_count": 7,
   "id": "1a194ea6",
   "metadata": {},
   "outputs": [
    {
     "name": "stderr",
     "output_type": "stream",
     "text": [
      "C:\\Users\\NURSYA~1.ABR\\AppData\\Local\\Temp/ipykernel_17856/417859143.py:1: SettingWithCopyWarning: \n",
      "A value is trying to be set on a copy of a slice from a DataFrame.\n",
      "Try using .loc[row_indexer,col_indexer] = value instead\n",
      "\n",
      "See the caveats in the documentation: https://pandas.pydata.org/pandas-docs/stable/user_guide/indexing.html#returning-a-view-versus-a-copy\n",
      "  df1['Start Time'] = pd.to_datetime(df1['Start Time'],utc=True)\n"
     ]
    },
    {
     "data": {
      "text/plain": [
       "Start Time    datetime64[ns, UTC]\n",
       "Duration                   object\n",
       "Title                      object\n",
       "dtype: object"
      ]
     },
     "execution_count": 7,
     "metadata": {},
     "output_type": "execute_result"
    }
   ],
   "source": [
    "df1['Start Time'] = pd.to_datetime(df1['Start Time'],utc=True)\n",
    "df1.dtypes"
   ]
  },
  {
   "cell_type": "code",
   "execution_count": 8,
   "id": "6425a844",
   "metadata": {},
   "outputs": [
    {
     "data": {
      "text/html": [
       "<div>\n",
       "<style scoped>\n",
       "    .dataframe tbody tr th:only-of-type {\n",
       "        vertical-align: middle;\n",
       "    }\n",
       "\n",
       "    .dataframe tbody tr th {\n",
       "        vertical-align: top;\n",
       "    }\n",
       "\n",
       "    .dataframe thead th {\n",
       "        text-align: right;\n",
       "    }\n",
       "</style>\n",
       "<table border=\"1\" class=\"dataframe\">\n",
       "  <thead>\n",
       "    <tr style=\"text-align: right;\">\n",
       "      <th></th>\n",
       "      <th>Start Time</th>\n",
       "      <th>Duration</th>\n",
       "      <th>Title</th>\n",
       "    </tr>\n",
       "  </thead>\n",
       "  <tbody>\n",
       "    <tr>\n",
       "      <th>0</th>\n",
       "      <td>2022-08-06 17:00:52+00:00</td>\n",
       "      <td>00:00:07</td>\n",
       "      <td>Season 5 Main Character Clip 4: Gabby's Dollhouse</td>\n",
       "    </tr>\n",
       "    <tr>\n",
       "      <th>1</th>\n",
       "      <td>2022-05-31 11:01:32+00:00</td>\n",
       "      <td>00:00:07</td>\n",
       "      <td>Upin&amp;Ipin: Season 5: Back To School (Episode 1)</td>\n",
       "    </tr>\n",
       "    <tr>\n",
       "      <th>2</th>\n",
       "      <td>2022-03-06 02:49:49+00:00</td>\n",
       "      <td>00:00:02</td>\n",
       "      <td>CoComelon: Season 4: CoComelon Fun Club (Episo...</td>\n",
       "    </tr>\n",
       "    <tr>\n",
       "      <th>3</th>\n",
       "      <td>2023-01-05 12:27:58+00:00</td>\n",
       "      <td>00:13:01</td>\n",
       "      <td>The Fabulous: Season 1: The Pop-up Shop and th...</td>\n",
       "    </tr>\n",
       "    <tr>\n",
       "      <th>4</th>\n",
       "      <td>2023-01-04 14:45:55+00:00</td>\n",
       "      <td>00:01:50</td>\n",
       "      <td>The Fabulous: Season 1: The Pop-up Shop and th...</td>\n",
       "    </tr>\n",
       "    <tr>\n",
       "      <th>5</th>\n",
       "      <td>2023-01-04 14:28:20+00:00</td>\n",
       "      <td>00:16:57</td>\n",
       "      <td>The Fabulous: Season 1: The VIP and The Regula...</td>\n",
       "    </tr>\n",
       "    <tr>\n",
       "      <th>6</th>\n",
       "      <td>2023-01-04 14:05:54+00:00</td>\n",
       "      <td>00:21:58</td>\n",
       "      <td>The Fabulous: Season 1: Grandmother’s Scarf an...</td>\n",
       "    </tr>\n",
       "    <tr>\n",
       "      <th>7</th>\n",
       "      <td>2023-01-04 13:19:01+00:00</td>\n",
       "      <td>00:36:01</td>\n",
       "      <td>The Fabulous: Season 1: Dom Pérignon and a Sho...</td>\n",
       "    </tr>\n",
       "    <tr>\n",
       "      <th>8</th>\n",
       "      <td>2023-01-04 13:14:59+00:00</td>\n",
       "      <td>00:03:06</td>\n",
       "      <td>Do Do Sol Sol La La Sol: Season 1: Pianist Pat...</td>\n",
       "    </tr>\n",
       "    <tr>\n",
       "      <th>9</th>\n",
       "      <td>2023-01-04 13:12:35+00:00</td>\n",
       "      <td>00:02:17</td>\n",
       "      <td>Do Do Sol Sol La La Sol: Season 1: Do Do Sol S...</td>\n",
       "    </tr>\n",
       "    <tr>\n",
       "      <th>10</th>\n",
       "      <td>2023-01-04 12:33:34+00:00</td>\n",
       "      <td>00:35:29</td>\n",
       "      <td>Alchemy of Souls: Part 2: Episode 8</td>\n",
       "    </tr>\n",
       "    <tr>\n",
       "      <th>11</th>\n",
       "      <td>2023-01-04 11:28:43+00:00</td>\n",
       "      <td>00:59:17</td>\n",
       "      <td>Alchemy of Souls: Part 2: Episode 7</td>\n",
       "    </tr>\n",
       "    <tr>\n",
       "      <th>12</th>\n",
       "      <td>2023-01-03 15:14:30+00:00</td>\n",
       "      <td>00:01:57</td>\n",
       "      <td>Alchemy of Souls: Part 2: Episode 7</td>\n",
       "    </tr>\n",
       "    <tr>\n",
       "      <th>13</th>\n",
       "      <td>2023-01-03 14:06:09+00:00</td>\n",
       "      <td>01:03:47</td>\n",
       "      <td>Alchemy of Souls: Part 2: Episode 6</td>\n",
       "    </tr>\n",
       "    <tr>\n",
       "      <th>14</th>\n",
       "      <td>2023-01-03 13:57:15+00:00</td>\n",
       "      <td>00:05:30</td>\n",
       "      <td>Alchemy of Souls: Part 2: Episode 5</td>\n",
       "    </tr>\n",
       "    <tr>\n",
       "      <th>15</th>\n",
       "      <td>2023-01-03 12:00:12+00:00</td>\n",
       "      <td>01:05:05</td>\n",
       "      <td>Alchemy of Souls: Part 2: Episode 5</td>\n",
       "    </tr>\n",
       "    <tr>\n",
       "      <th>16</th>\n",
       "      <td>2023-01-03 11:59:59+00:00</td>\n",
       "      <td>00:00:04</td>\n",
       "      <td>Alchemy of Souls: Part 1: Episode 8</td>\n",
       "    </tr>\n",
       "    <tr>\n",
       "      <th>17</th>\n",
       "      <td>2023-01-03 08:57:51+00:00</td>\n",
       "      <td>00:00:26</td>\n",
       "      <td>Kantara_hook_04_16x9</td>\n",
       "    </tr>\n",
       "    <tr>\n",
       "      <th>18</th>\n",
       "      <td>2023-01-02 16:03:22+00:00</td>\n",
       "      <td>00:13:43</td>\n",
       "      <td>The Glory: Season 1: Episode 2</td>\n",
       "    </tr>\n",
       "    <tr>\n",
       "      <th>19</th>\n",
       "      <td>2023-01-02 15:39:18+00:00</td>\n",
       "      <td>00:23:42</td>\n",
       "      <td>The Glory: Season 1: Episode 1</td>\n",
       "    </tr>\n",
       "  </tbody>\n",
       "</table>\n",
       "</div>"
      ],
      "text/plain": [
       "                  Start Time  Duration  \\\n",
       "0  2022-08-06 17:00:52+00:00  00:00:07   \n",
       "1  2022-05-31 11:01:32+00:00  00:00:07   \n",
       "2  2022-03-06 02:49:49+00:00  00:00:02   \n",
       "3  2023-01-05 12:27:58+00:00  00:13:01   \n",
       "4  2023-01-04 14:45:55+00:00  00:01:50   \n",
       "5  2023-01-04 14:28:20+00:00  00:16:57   \n",
       "6  2023-01-04 14:05:54+00:00  00:21:58   \n",
       "7  2023-01-04 13:19:01+00:00  00:36:01   \n",
       "8  2023-01-04 13:14:59+00:00  00:03:06   \n",
       "9  2023-01-04 13:12:35+00:00  00:02:17   \n",
       "10 2023-01-04 12:33:34+00:00  00:35:29   \n",
       "11 2023-01-04 11:28:43+00:00  00:59:17   \n",
       "12 2023-01-03 15:14:30+00:00  00:01:57   \n",
       "13 2023-01-03 14:06:09+00:00  01:03:47   \n",
       "14 2023-01-03 13:57:15+00:00  00:05:30   \n",
       "15 2023-01-03 12:00:12+00:00  01:05:05   \n",
       "16 2023-01-03 11:59:59+00:00  00:00:04   \n",
       "17 2023-01-03 08:57:51+00:00  00:00:26   \n",
       "18 2023-01-02 16:03:22+00:00  00:13:43   \n",
       "19 2023-01-02 15:39:18+00:00  00:23:42   \n",
       "\n",
       "                                                Title  \n",
       "0   Season 5 Main Character Clip 4: Gabby's Dollhouse  \n",
       "1     Upin&Ipin: Season 5: Back To School (Episode 1)  \n",
       "2   CoComelon: Season 4: CoComelon Fun Club (Episo...  \n",
       "3   The Fabulous: Season 1: The Pop-up Shop and th...  \n",
       "4   The Fabulous: Season 1: The Pop-up Shop and th...  \n",
       "5   The Fabulous: Season 1: The VIP and The Regula...  \n",
       "6   The Fabulous: Season 1: Grandmother’s Scarf an...  \n",
       "7   The Fabulous: Season 1: Dom Pérignon and a Sho...  \n",
       "8   Do Do Sol Sol La La Sol: Season 1: Pianist Pat...  \n",
       "9   Do Do Sol Sol La La Sol: Season 1: Do Do Sol S...  \n",
       "10                Alchemy of Souls: Part 2: Episode 8  \n",
       "11                Alchemy of Souls: Part 2: Episode 7  \n",
       "12                Alchemy of Souls: Part 2: Episode 7  \n",
       "13                Alchemy of Souls: Part 2: Episode 6  \n",
       "14                Alchemy of Souls: Part 2: Episode 5  \n",
       "15                Alchemy of Souls: Part 2: Episode 5  \n",
       "16                Alchemy of Souls: Part 1: Episode 8  \n",
       "17                               Kantara_hook_04_16x9  \n",
       "18                     The Glory: Season 1: Episode 2  \n",
       "19                     The Glory: Season 1: Episode 1  "
      ]
     },
     "execution_count": 8,
     "metadata": {},
     "output_type": "execute_result"
    }
   ],
   "source": [
    "df1.head(20)"
   ]
  },
  {
   "cell_type": "code",
   "execution_count": 9,
   "id": "797146e2",
   "metadata": {},
   "outputs": [
    {
     "data": {
      "text/html": [
       "<div>\n",
       "<style scoped>\n",
       "    .dataframe tbody tr th:only-of-type {\n",
       "        vertical-align: middle;\n",
       "    }\n",
       "\n",
       "    .dataframe tbody tr th {\n",
       "        vertical-align: top;\n",
       "    }\n",
       "\n",
       "    .dataframe thead th {\n",
       "        text-align: right;\n",
       "    }\n",
       "</style>\n",
       "<table border=\"1\" class=\"dataframe\">\n",
       "  <thead>\n",
       "    <tr style=\"text-align: right;\">\n",
       "      <th></th>\n",
       "      <th>Start Time</th>\n",
       "      <th>Duration</th>\n",
       "      <th>Title</th>\n",
       "    </tr>\n",
       "  </thead>\n",
       "  <tbody>\n",
       "    <tr>\n",
       "      <th>0</th>\n",
       "      <td>2022-08-07 01:00:52+08:00</td>\n",
       "      <td>00:00:07</td>\n",
       "      <td>Season 5 Main Character Clip 4: Gabby's Dollhouse</td>\n",
       "    </tr>\n",
       "  </tbody>\n",
       "</table>\n",
       "</div>"
      ],
      "text/plain": [
       "                 Start Time  Duration  \\\n",
       "0 2022-08-07 01:00:52+08:00  00:00:07   \n",
       "\n",
       "                                               Title  \n",
       "0  Season 5 Main Character Clip 4: Gabby's Dollhouse  "
      ]
     },
     "execution_count": 9,
     "metadata": {},
     "output_type": "execute_result"
    }
   ],
   "source": [
    "df1 = df1.set_index('Start Time')\n",
    "df1.index = df1.index.tz_convert('Asia/Singapore')\n",
    "df1 = df1.reset_index()\n",
    "df1.head(1)"
   ]
  },
  {
   "cell_type": "code",
   "execution_count": 10,
   "id": "73780ef3",
   "metadata": {},
   "outputs": [
    {
     "data": {
      "text/plain": [
       "Start Time    datetime64[ns, Asia/Singapore]\n",
       "Duration                     timedelta64[ns]\n",
       "Title                                 object\n",
       "dtype: object"
      ]
     },
     "execution_count": 10,
     "metadata": {},
     "output_type": "execute_result"
    }
   ],
   "source": [
    "df1['Duration'] = pd.to_timedelta(df1['Duration'])\n",
    "df1.dtypes"
   ]
  },
  {
   "cell_type": "markdown",
   "id": "543be6ff",
   "metadata": {},
   "source": [
    "### Study on Alchemy Of Souls"
   ]
  },
  {
   "cell_type": "code",
   "execution_count": 11,
   "id": "103d4658",
   "metadata": {},
   "outputs": [],
   "source": [
    "aos = df1[df1['Title'].str.contains('Alchemy of Souls',regex=False)]"
   ]
  },
  {
   "cell_type": "code",
   "execution_count": 12,
   "id": "644406a9",
   "metadata": {},
   "outputs": [
    {
     "data": {
      "text/plain": [
       "(97, 3)"
      ]
     },
     "execution_count": 12,
     "metadata": {},
     "output_type": "execute_result"
    }
   ],
   "source": [
    "aos.shape"
   ]
  },
  {
   "cell_type": "code",
   "execution_count": 13,
   "id": "8a926b73",
   "metadata": {},
   "outputs": [
    {
     "data": {
      "text/plain": [
       "(83, 3)"
      ]
     },
     "execution_count": 13,
     "metadata": {},
     "output_type": "execute_result"
    }
   ],
   "source": [
    "aos = aos[(aos['Duration'] > '0 days 00:01:00')]\n",
    "aos.shape"
   ]
  },
  {
   "cell_type": "code",
   "execution_count": 14,
   "id": "cf2c15f5",
   "metadata": {},
   "outputs": [
    {
     "data": {
      "text/plain": [
       "Timedelta('1 days 21:24:10')"
      ]
     },
     "execution_count": 14,
     "metadata": {},
     "output_type": "execute_result"
    }
   ],
   "source": [
    "aos['Duration'].sum()"
   ]
  },
  {
   "cell_type": "markdown",
   "id": "eb61ffba",
   "metadata": {},
   "source": [
    "### When do I watch Alchemy Of Souls"
   ]
  },
  {
   "cell_type": "code",
   "execution_count": 15,
   "id": "6f58d9dd",
   "metadata": {},
   "outputs": [],
   "source": [
    "aos['weekday'] = aos['Start Time'].dt.weekday\n",
    "aos['hour'] = aos['Start Time'].dt.hour"
   ]
  },
  {
   "cell_type": "code",
   "execution_count": 16,
   "id": "823d638e",
   "metadata": {},
   "outputs": [
    {
     "data": {
      "text/html": [
       "<div>\n",
       "<style scoped>\n",
       "    .dataframe tbody tr th:only-of-type {\n",
       "        vertical-align: middle;\n",
       "    }\n",
       "\n",
       "    .dataframe tbody tr th {\n",
       "        vertical-align: top;\n",
       "    }\n",
       "\n",
       "    .dataframe thead th {\n",
       "        text-align: right;\n",
       "    }\n",
       "</style>\n",
       "<table border=\"1\" class=\"dataframe\">\n",
       "  <thead>\n",
       "    <tr style=\"text-align: right;\">\n",
       "      <th></th>\n",
       "      <th>Start Time</th>\n",
       "      <th>Duration</th>\n",
       "      <th>Title</th>\n",
       "      <th>weekday</th>\n",
       "      <th>hour</th>\n",
       "    </tr>\n",
       "  </thead>\n",
       "  <tbody>\n",
       "    <tr>\n",
       "      <th>10</th>\n",
       "      <td>2023-01-04 20:33:34+08:00</td>\n",
       "      <td>0 days 00:35:29</td>\n",
       "      <td>Alchemy of Souls: Part 2: Episode 8</td>\n",
       "      <td>2</td>\n",
       "      <td>20</td>\n",
       "    </tr>\n",
       "    <tr>\n",
       "      <th>11</th>\n",
       "      <td>2023-01-04 19:28:43+08:00</td>\n",
       "      <td>0 days 00:59:17</td>\n",
       "      <td>Alchemy of Souls: Part 2: Episode 7</td>\n",
       "      <td>2</td>\n",
       "      <td>19</td>\n",
       "    </tr>\n",
       "    <tr>\n",
       "      <th>12</th>\n",
       "      <td>2023-01-03 23:14:30+08:00</td>\n",
       "      <td>0 days 00:01:57</td>\n",
       "      <td>Alchemy of Souls: Part 2: Episode 7</td>\n",
       "      <td>1</td>\n",
       "      <td>23</td>\n",
       "    </tr>\n",
       "    <tr>\n",
       "      <th>13</th>\n",
       "      <td>2023-01-03 22:06:09+08:00</td>\n",
       "      <td>0 days 01:03:47</td>\n",
       "      <td>Alchemy of Souls: Part 2: Episode 6</td>\n",
       "      <td>1</td>\n",
       "      <td>22</td>\n",
       "    </tr>\n",
       "    <tr>\n",
       "      <th>14</th>\n",
       "      <td>2023-01-03 21:57:15+08:00</td>\n",
       "      <td>0 days 00:05:30</td>\n",
       "      <td>Alchemy of Souls: Part 2: Episode 5</td>\n",
       "      <td>1</td>\n",
       "      <td>21</td>\n",
       "    </tr>\n",
       "  </tbody>\n",
       "</table>\n",
       "</div>"
      ],
      "text/plain": [
       "                  Start Time        Duration  \\\n",
       "10 2023-01-04 20:33:34+08:00 0 days 00:35:29   \n",
       "11 2023-01-04 19:28:43+08:00 0 days 00:59:17   \n",
       "12 2023-01-03 23:14:30+08:00 0 days 00:01:57   \n",
       "13 2023-01-03 22:06:09+08:00 0 days 01:03:47   \n",
       "14 2023-01-03 21:57:15+08:00 0 days 00:05:30   \n",
       "\n",
       "                                  Title  weekday  hour  \n",
       "10  Alchemy of Souls: Part 2: Episode 8        2    20  \n",
       "11  Alchemy of Souls: Part 2: Episode 7        2    19  \n",
       "12  Alchemy of Souls: Part 2: Episode 7        1    23  \n",
       "13  Alchemy of Souls: Part 2: Episode 6        1    22  \n",
       "14  Alchemy of Souls: Part 2: Episode 5        1    21  "
      ]
     },
     "execution_count": 16,
     "metadata": {},
     "output_type": "execute_result"
    }
   ],
   "source": [
    "aos.head()"
   ]
  },
  {
   "cell_type": "code",
   "execution_count": 17,
   "id": "f1f3680f",
   "metadata": {},
   "outputs": [],
   "source": [
    "%matplotlib inline\n",
    "import matplotlib"
   ]
  },
  {
   "cell_type": "code",
   "execution_count": 20,
   "id": "0efb6e12",
   "metadata": {},
   "outputs": [
    {
     "data": {
      "text/plain": [
       "<AxesSubplot:title={'center':'aos Episodes Watched by Day - Mon to Sun'}, xlabel='Day'>"
      ]
     },
     "execution_count": 20,
     "metadata": {},
     "output_type": "execute_result"
    },
    {
     "data": {
      "image/png": "[encoded data removed]",
      "text/plain": [
       "<Figure size 1440x720 with 1 Axes>"
      ]
     },
     "metadata": {
      "needs_background": "light"
     },
     "output_type": "display_data"
    }
   ],
   "source": [
    "# set our categorical and define the order so the days are plotted Monday-Sunday\n",
    "aos['weekday'] = pd.Categorical(aos['weekday'],categories=[0,1,2,3,4,5,6],ordered=True)\n",
    "\n",
    "# create aos_by_day and count the rows for each weekday, assigning the result to that variable\n",
    "aos_by_day = aos['weekday'].value_counts()\n",
    "\n",
    "# sort the index using our categorical, so that Monday (0) is first, Tuesday (1) is second, etc.\n",
    "aos_by_day = aos_by_day.sort_index()\n",
    "\n",
    "# optional: update the font size to make it a bit larger and easier to read\n",
    "matplotlib.rcParams.update({'font.size':22})\n",
    "\n",
    "# plot aos_by_day as a bar chart with the listed size and title\n",
    "aos_by_day.plot(kind='bar',figsize=(20,10), title='aos Episodes Watched by Day - Mon to Sun', xlabel='Day')"
   ]
  },
  {
   "cell_type": "markdown",
   "id": "4975bd7c",
   "metadata": {},
   "source": [
    "#### This showed that I spent watching alchemy of souls highest on Tuesday,Saturday and Friday. This makes me wonder why I did watch most on Tuesday. What are the significant behind this?"
   ]
  },
  {
   "cell_type": "code",
   "execution_count": 19,
   "id": "a0be2dbc",
   "metadata": {},
   "outputs": [
    {
     "data": {
      "text/plain": [
       "<AxesSubplot:title={'center':'AOS Episodes Watched by Hour - AM to PM'}, xlabel='Time in PM/AM'>"
      ]
     },
     "execution_count": 19,
     "metadata": {},
     "output_type": "execute_result"
    },
    {
     "data": {
      "image/png": "[encoded data removed]",
      "text/plain": [
       "<Figure size 1440x720 with 1 Axes>"
      ]
     },
     "metadata": {
      "needs_background": "light"
     },
     "output_type": "display_data"
    }
   ],
   "source": [
    "# set our categorical and define the order so the hours are plotted 0-23\n",
    "aos['hour'] = pd.Categorical(aos['hour'], categories=[0,1,2,3,4,5,6,7,8,9,10,11,12,13,14,15,16,17,18,19,20,21,22,23],\n",
    "    ordered=True)\n",
    "\n",
    "# create aos_by_hour and count the rows for each hour, assigning the result to that variable\n",
    "aos_by_hour = aos['hour'].value_counts()\n",
    "\n",
    "# sort the index using our categorical, so that midnight (0) is first, 1 a.m. (1) is second, etc.\n",
    "aos_by_hour = aos_by_hour.sort_index()\n",
    "\n",
    "# plot aos_by_hour as a bar chart with the listed size and title\n",
    "aos_by_hour.plot(kind='bar',figsize=(20,10), title='AOS Episodes Watched by Hour - AM to PM', xlabel = 'Time in PM/AM')"
   ]
  },
  {
   "cell_type": "markdown",
   "id": "31eb3491",
   "metadata": {},
   "source": [
    "#### As expected, I watched the drama actively starting evening up until 11 PM. This is true, I will limit my time watching Netflix up untill 11 PM and the the go sleep after that"
   ]
  },
  {
   "cell_type": "code",
   "execution_count": null,
   "id": "5b4c9582",
   "metadata": {},
   "outputs": [],
   "source": []
  }
 ],
 "metadata": {
  "kernelspec": {
   "display_name": "Python 3 (ipykernel)",
   "language": "python",
   "name": "python3"
  },
  "language_info": {
   "codemirror_mode": {
    "name": "ipython",
    "version": 3
   },
   "file_extension": ".py",
   "mimetype": "text/x-python",
   "name": "python",
   "nbconvert_exporter": "python",
   "pygments_lexer": "ipython3",
   "version": "3.9.7"
  }
 },
 "nbformat": 4,
 "nbformat_minor": 5
}
